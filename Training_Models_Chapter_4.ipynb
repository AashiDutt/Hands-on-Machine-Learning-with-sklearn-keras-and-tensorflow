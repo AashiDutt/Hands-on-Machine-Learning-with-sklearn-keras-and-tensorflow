{
  "nbformat": 4,
  "nbformat_minor": 0,
  "metadata": {
    "colab": {
      "name": "Training Models Chapter 4.ipynb",
      "provenance": [],
      "authorship_tag": "ABX9TyP/mLjdPIGxSVW6WkQcq5Dv",
      "include_colab_link": true
    },
    "kernelspec": {
      "name": "python3",
      "display_name": "Python 3"
    },
    "language_info": {
      "name": "python"
    }
  },
  "cells": [
    {
      "cell_type": "markdown",
      "metadata": {
        "id": "view-in-github",
        "colab_type": "text"
      },
      "source": [
        "<a href=\"https://colab.research.google.com/github/AashiDutt/Hands-on-Machine-Learning-with-sklearn-keras-and-tensorflow/blob/main/Training_Models_Chapter_4.ipynb\" target=\"_parent\"><img src=\"https://colab.research.google.com/assets/colab-badge.svg\" alt=\"Open In Colab\"/></a>"
      ]
    },
    {
      "cell_type": "markdown",
      "source": [
        "# Linear Regression"
      ],
      "metadata": {
        "id": "Vl-hhuKUlyyd"
      }
    },
    {
      "cell_type": "code",
      "execution_count": 1,
      "metadata": {
        "id": "qB45Fqo-gbwi"
      },
      "outputs": [],
      "source": [
        "# Create Linear data\n",
        "\n",
        "import numpy as np\n",
        "\n",
        "X = 2 * np.random.rand(100,1)\n",
        "y = 4 +3 *X + np.random.randn(100,1) # equation --> y = 4 + 3x + Gaussian Noise   [y= c +mx + noise]"
      ]
    },
    {
      "cell_type": "code",
      "source": [
        "# Normal Equation\n",
        "\n",
        "#Theta cap = (X(Transpose)* X) ** -1  * X(Transpose) y           -----* = (dot product)\n",
        "\n",
        "X_b = np.c_[np.ones((100,1)), X]  # add X0 =1 (bias) to each instance\n",
        "theta_best = np.linalg.inv(X_b.T.dot(X_b)).dot(X_b.T).dot(y)\n",
        "theta_best\n",
        "# gives values for theta_0 and theta_1"
      ],
      "metadata": {
        "colab": {
          "base_uri": "https://localhost:8080/"
        },
        "id": "FMjr7T-kmEos",
        "outputId": "ac2cdd7d-0c59-4f02-cc1d-cea6bb6a9118"
      },
      "execution_count": 2,
      "outputs": [
        {
          "output_type": "execute_result",
          "data": {
            "text/plain": [
              "array([[4.16990622],\n",
              "       [2.77954077]])"
            ]
          },
          "metadata": {},
          "execution_count": 2
        }
      ]
    },
    {
      "cell_type": "code",
      "source": [
        "# Make predictions using theta cap\n",
        "\n",
        "X_new = np.array([[0], [2]])\n",
        "X_new_b = np.c_[np.ones((2,1)), X_new]\n",
        "\n",
        "y_predict = X_new_b.dot(theta_best)\n",
        "y_predict"
      ],
      "metadata": {
        "colab": {
          "base_uri": "https://localhost:8080/"
        },
        "id": "OkLDAcI5n6RY",
        "outputId": "cdbecdb7-fbd8-4ed2-b731-dfba3686c9af"
      },
      "execution_count": 3,
      "outputs": [
        {
          "output_type": "execute_result",
          "data": {
            "text/plain": [
              "array([[4.16990622],\n",
              "       [9.72898775]])"
            ]
          },
          "metadata": {},
          "execution_count": 3
        }
      ]
    },
    {
      "cell_type": "code",
      "source": [
        "import matplotlib.pyplot as plt"
      ],
      "metadata": {
        "id": "ij4I19J8oy93"
      },
      "execution_count": 6,
      "outputs": []
    },
    {
      "cell_type": "code",
      "source": [
        "plt.plot(X_new, y_predict, \"r-\")\n",
        "plt.plot(X, y, \"b.\")\n",
        "plt.axis([0,2,0,15])\n",
        "plt.show()"
      ],
      "metadata": {
        "colab": {
          "base_uri": "https://localhost:8080/",
          "height": 265
        },
        "id": "KbDHlrT2oqOO",
        "outputId": "71be6938-aeef-4801-ae93-a82a86c8b726"
      },
      "execution_count": 7,
      "outputs": [
        {
          "output_type": "display_data",
          "data": {
            "text/plain": [
              "<Figure size 432x288 with 1 Axes>"
            ],
            "image/png": "[encoded data removed]"
          },
          "metadata": {
            "needs_background": "light"
          }
        }
      ]
    },
    {
      "cell_type": "code",
      "source": [
        "# Linear regression using sklearn\n",
        "\n",
        "from sklearn.linear_model import LinearRegression\n",
        "\n",
        "lin_reg = LinearRegression()\n",
        "lin_reg.fit(X,y)\n",
        "lin_reg.intercept_, lin_reg.coef_\n",
        "lin_reg.predict(X_new)"
      ],
      "metadata": {
        "colab": {
          "base_uri": "https://localhost:8080/"
        },
        "id": "4bEXPXL8pDap",
        "outputId": "5c277ef8-145d-46e9-f1af-13467091c394"
      },
      "execution_count": 8,
      "outputs": [
        {
          "output_type": "execute_result",
          "data": {
            "text/plain": [
              "array([[4.16990622],\n",
              "       [9.72898775]])"
            ]
          },
          "metadata": {},
          "execution_count": 8
        }
      ]
    },
    {
      "cell_type": "code",
      "source": [
        "# using lest square function\n",
        "theta_best_svd, residuals, rank, s = np.linalg.lstsq(X_b, y, rcond= 1e-6) \n",
        "theta_best_svd"
      ],
      "metadata": {
        "colab": {
          "base_uri": "https://localhost:8080/"
        },
        "id": "9WobRQC2pe55",
        "outputId": "0ef728f4-01d2-472f-b3ef-731160a75872"
      },
      "execution_count": 12,
      "outputs": [
        {
          "output_type": "execute_result",
          "data": {
            "text/plain": [
              "array([[4.16990622],\n",
              "       [2.77954077]])"
            ]
          },
          "metadata": {},
          "execution_count": 12
        }
      ]
    },
    {
      "cell_type": "code",
      "source": [
        "np.linalg.pinv(X_b).dot(y)"
      ],
      "metadata": {
        "colab": {
          "base_uri": "https://localhost:8080/"
        },
        "id": "sM4qRDL_s5cJ",
        "outputId": "e25a98d8-8665-46f7-e39f-ebb1ec740963"
      },
      "execution_count": 13,
      "outputs": [
        {
          "output_type": "execute_result",
          "data": {
            "text/plain": [
              "array([[4.16990622],\n",
              "       [2.77954077]])"
            ]
          },
          "metadata": {},
          "execution_count": 13
        }
      ]
    },
    {
      "cell_type": "code",
      "source": [
        "# Gradient Descent - you start filling random values of Theta and find cost function (MSE) for each value,\n",
        "# then you improve it gradually in attempt to decrese the cost function further till it reaches 0 or minimum.\n",
        "\n",
        "eta = 0.1 # learning rate\n",
        "n_iterations = 1000\n",
        "m = 100\n",
        "theta = np.random.randn(2,1)\n",
        "\n",
        "# Finding partial deravatives of cost function\n",
        "for iteration in range(n_iterations):\n",
        "  gradients = 2/m * X_b.T.dot(X_b.dot(theta)-y)\n",
        "  theta = theta - eta * gradients\n",
        "\n",
        "theta"
      ],
      "metadata": {
        "colab": {
          "base_uri": "https://localhost:8080/"
        },
        "id": "npaa9Z44tH0T",
        "outputId": "b83aba22-d5f4-4417-ed41-0d4e3a522579"
      },
      "execution_count": 15,
      "outputs": [
        {
          "output_type": "execute_result",
          "data": {
            "text/plain": [
              "array([[4.16990622],\n",
              "       [2.77954077]])"
            ]
          },
          "metadata": {},
          "execution_count": 15
        }
      ]
    },
    {
      "cell_type": "code",
      "source": [
        "# Stochastic Gradient Descent\n",
        "\n",
        "# Learning rate scheduler - it gradually decreases learning rate so that we reach global minima\n",
        "\n",
        "n_epochs = 50\n",
        "t0, t1 = 5,50 #learning schedule hyperparametrs\n",
        "\n",
        "def learning_schedule(t):\n",
        "  return t0 / (t +t1)\n",
        "\n",
        "theta = np.random.randn(2,1)\n",
        "\n",
        "for epoch in range(n_epochs):\n",
        "  for i in range(m):\n",
        "    random_index = np.random.randint(m)\n",
        "    xi = X_b[random_index: random_index+1]\n",
        "    yi = y[random_index: random_index+1]\n",
        "    gradients = 2 * xi.T.dot(xi.dot(theta) - yi)\n",
        "    eta = learning_schedule(epoch * m+1)\n",
        "    theta = theta - eta * gradients\n",
        "\n"
      ],
      "metadata": {
        "id": "LbZBc2og0Xr0"
      },
      "execution_count": 16,
      "outputs": []
    },
    {
      "cell_type": "code",
      "source": [
        "theta\n"
      ],
      "metadata": {
        "colab": {
          "base_uri": "https://localhost:8080/"
        },
        "id": "TpMD7MyO8qD7",
        "outputId": "f668e51a-073d-44ad-91bb-91becf4c2179"
      },
      "execution_count": 17,
      "outputs": [
        {
          "output_type": "execute_result",
          "data": {
            "text/plain": [
              "array([[4.16050459],\n",
              "       [2.76814142]])"
            ]
          },
          "metadata": {},
          "execution_count": 17
        }
      ]
    },
    {
      "cell_type": "code",
      "source": [
        "from sklearn.linear_model import SGDRegressor\n",
        "sgd_reg = SGDRegressor(max_iter = 1000, tol = 1e-3, penalty = None, eta0 = 0.1)\n",
        "sgd_reg.fit(X, y.ravel())"
      ],
      "metadata": {
        "colab": {
          "base_uri": "https://localhost:8080/"
        },
        "id": "w-yKMaYa8q5i",
        "outputId": "7cd7588c-8513-4e40-8a8a-05f0c8b26bc7"
      },
      "execution_count": 19,
      "outputs": [
        {
          "output_type": "execute_result",
          "data": {
            "text/plain": [
              "SGDRegressor(eta0=0.1, penalty=None)"
            ]
          },
          "metadata": {},
          "execution_count": 19
        }
      ]
    },
    {
      "cell_type": "code",
      "source": [
        "sgd_reg.intercept_, sgd_reg.coef_"
      ],
      "metadata": {
        "colab": {
          "base_uri": "https://localhost:8080/"
        },
        "id": "2OIAWG-99eHh",
        "outputId": "be02cb32-f135-4aa5-d12e-d8227479b1c1"
      },
      "execution_count": 21,
      "outputs": [
        {
          "output_type": "execute_result",
          "data": {
            "text/plain": [
              "(array([4.25440054]), array([2.90362583]))"
            ]
          },
          "metadata": {},
          "execution_count": 21
        }
      ]
    },
    {
      "cell_type": "markdown",
      "source": [
        "# Polynomial Regression\n",
        "\n",
        "Working with non-linear data"
      ],
      "metadata": {
        "id": "Wwrb-ZuM-Zh_"
      }
    },
    {
      "cell_type": "code",
      "source": [
        "m = 100\n",
        "X = 6 * np.random.rand(m, 1) -3\n",
        "y = 0.5 * X** 2 + X+2 + np.random.randn(m, 1)\n"
      ],
      "metadata": {
        "id": "azADivoS9mly"
      },
      "execution_count": 22,
      "outputs": []
    },
    {
      "cell_type": "code",
      "source": [
        "# Transform data into linear data\n",
        "\n",
        "from sklearn.preprocessing import PolynomialFeatures\n",
        "\n",
        "poly_features = PolynomialFeatures(degree = 2, include_bias = False)\n",
        "X_poly = poly_features.fit_transform(X)\n",
        "X[0]\n"
      ],
      "metadata": {
        "colab": {
          "base_uri": "https://localhost:8080/"
        },
        "id": "gy7a8PTv-t8R",
        "outputId": "a88ee064-1541-41be-8325-69b03d06784e"
      },
      "execution_count": 23,
      "outputs": [
        {
          "output_type": "execute_result",
          "data": {
            "text/plain": [
              "array([-1.31249918])"
            ]
          },
          "metadata": {},
          "execution_count": 23
        }
      ]
    },
    {
      "cell_type": "code",
      "source": [
        "X_poly[0] # contains orignal features of x and square of this feature"
      ],
      "metadata": {
        "colab": {
          "base_uri": "https://localhost:8080/"
        },
        "id": "DBiM9W6w_Jve",
        "outputId": "0b5e34d9-0d3b-448e-8580-ffa0da13f34d"
      },
      "execution_count": 24,
      "outputs": [
        {
          "output_type": "execute_result",
          "data": {
            "text/plain": [
              "array([-1.31249918,  1.72265408])"
            ]
          },
          "metadata": {},
          "execution_count": 24
        }
      ]
    },
    {
      "cell_type": "code",
      "source": [
        "# fit a linear regression line\n",
        "\n",
        "lin_reg = LinearRegression()\n",
        "lin_reg.fit(X_poly, y)\n",
        "lin_reg.intercept_, lin_reg.coef_"
      ],
      "metadata": {
        "colab": {
          "base_uri": "https://localhost:8080/"
        },
        "id": "knOHMyQv_MMf",
        "outputId": "4ed62b9a-0105-4e17-d7fd-34b123abc49f"
      },
      "execution_count": 25,
      "outputs": [
        {
          "output_type": "execute_result",
          "data": {
            "text/plain": [
              "(array([2.09170135]), array([[0.93823048, 0.50781454]]))"
            ]
          },
          "metadata": {},
          "execution_count": 25
        }
      ]
    },
    {
      "cell_type": "code",
      "source": [
        "X_new = np.linspace(-3,3,100).reshape(100,1)\n",
        "X_new_poly = poly_features.transform(X_new)\n",
        "y_new = lin_reg.predict(X_new_poly)\n",
        "plt.plot(X, y, \"b.\")\n",
        "plt.plot(X_new, y_new, \"r-\", linewidth = 2, label = \"Prediction\")\n",
        "\n",
        "plt.axis([-3, 3, 0, 10])\n",
        "plt.show()"
      ],
      "metadata": {
        "colab": {
          "base_uri": "https://localhost:8080/",
          "height": 269
        },
        "id": "57_ldAy4_iM0",
        "outputId": "84150277-457c-4fdb-cfa5-c0a6837de217"
      },
      "execution_count": 30,
      "outputs": [
        {
          "output_type": "display_data",
          "data": {
            "text/plain": [
              "<Figure size 432x288 with 1 Axes>"
            ],
            "image/png": "[encoded data removed]"
          },
          "metadata": {
            "needs_background": "light"
          }
        }
      ]
    },
    {
      "cell_type": "code",
      "source": [
        "# Learning curves\n",
        "from sklearn.metrics import mean_squared_error\n",
        "from sklearn.model_selection import train_test_split\n",
        "\n",
        "def plot_learning_curves(model, X, y):\n",
        "  X_train, X_val, y_train, y_val  = train_test_split(X, y, test_size = 0.2)\n",
        "  train_errors, val_errors = [], []\n",
        "\n",
        "  for m in range(1, len(X_train)):\n",
        "    model.fit(X_train[:m], y_train[:m])\n",
        "    y_train_predict =  model.predict(X_train[:m])\n",
        "    y_val_predict = model.predict(X_val)\n",
        "\n",
        "    train_errors.append(mean_squared_error(y_train[:m], y_train_predict))\n",
        "    val_errors.append(mean_squared_error(y_val, y_val_predict))\n",
        "\n",
        "  \n",
        "  plt.plot(np.sqrt(train_errors), \"r-+\", linewidth = 2, label = \"train\")\n",
        "  plt.plot(np.sqrt(val_errors), \"b-\", linewidth = 3, label = \"val\")\n",
        "  plt.legend()\n",
        "  plt.xlabel(\"Training set\")\n",
        "  plt.ylabel(\"RMSE\")\n",
        "\n"
      ],
      "metadata": {
        "id": "oBfh6okF_5YB"
      },
      "execution_count": 35,
      "outputs": []
    },
    {
      "cell_type": "code",
      "source": [
        "lin_reg = LinearRegression()\n",
        "plot_learning_curves(lin_reg, X , y)"
      ],
      "metadata": {
        "colab": {
          "base_uri": "https://localhost:8080/",
          "height": 279
        },
        "id": "fjDZaeZ4E1Cu",
        "outputId": "7d080ffc-6c41-4598-80e2-452a37a86d4d"
      },
      "execution_count": 36,
      "outputs": [
        {
          "output_type": "display_data",
          "data": {
            "text/plain": [
              "<Figure size 432x288 with 1 Axes>"
            ],
            "image/png": "[encoded data removed]"
          },
          "metadata": {
            "needs_background": "light"
          }
        }
      ]
    },
    {
      "cell_type": "code",
      "source": [
        "# Lerning curve of 10 degree polynomial\n",
        "\n",
        "from sklearn.pipeline import Pipeline\n",
        "\n",
        "polynomial_regression = Pipeline([(\"Poly_features\", PolynomialFeatures(degree = 10, include_bias = False)), (\"lin_reg\", LinearRegression()),])\n",
        "\n",
        "plot_learning_curves(polynomial_regression, X, y)"
      ],
      "metadata": {
        "colab": {
          "base_uri": "https://localhost:8080/",
          "height": 279
        },
        "id": "_-fQLCB9E-jH",
        "outputId": "2b3027eb-c5c0-4e90-9b88-764926ab6907"
      },
      "execution_count": 38,
      "outputs": [
        {
          "output_type": "display_data",
          "data": {
            "text/plain": [
              "<Figure size 432x288 with 1 Axes>"
            ],
            "image/png": "[encoded data removed]"
          },
          "metadata": {
            "needs_background": "light"
          }
        }
      ]
    },
    {
      "cell_type": "code",
      "source": [
        "# Redge regression\n",
        "\n",
        "from sklearn.linear_model import Ridge\n",
        "\n",
        "ridge_reg = Ridge(alpha = 1, solver = \"cholesky\")\n",
        "ridge_reg.fit(X,y)\n",
        "ridge_reg.predict([[1.5]])"
      ],
      "metadata": {
        "colab": {
          "base_uri": "https://localhost:8080/"
        },
        "id": "Ld9XX2ZyHBll",
        "outputId": "65b6f1e9-4c6a-485a-fbb9-aafbffbedca2"
      },
      "execution_count": 39,
      "outputs": [
        {
          "output_type": "execute_result",
          "data": {
            "text/plain": [
              "array([[4.84296126]])"
            ]
          },
          "metadata": {},
          "execution_count": 39
        }
      ]
    },
    {
      "cell_type": "code",
      "source": [
        "# Using Stochastic Gradient Descent\n",
        "\n",
        "sgd_reg = SGDRegressor(penalty = \"l2\")\n",
        "sgd_reg.fit(X, y.ravel())\n",
        "sgd_reg.predict([[1.5]])"
      ],
      "metadata": {
        "colab": {
          "base_uri": "https://localhost:8080/"
        },
        "id": "_rzgZ8SmKAEC",
        "outputId": "758c7e9e-4bff-4f0e-b156-9015daba4f1d"
      },
      "execution_count": 40,
      "outputs": [
        {
          "output_type": "execute_result",
          "data": {
            "text/plain": [
              "array([4.82465474])"
            ]
          },
          "metadata": {},
          "execution_count": 40
        }
      ]
    },
    {
      "cell_type": "code",
      "source": [
        "# Lasso Regression\n",
        "\n",
        "from sklearn.linear_model import Lasso\n",
        "\n",
        "lasso_reg = Lasso(alpha = 0.1)\n",
        "lasso_reg.fit(X,y)\n",
        "lasso_reg.predict([[1.5]])"
      ],
      "metadata": {
        "colab": {
          "base_uri": "https://localhost:8080/"
        },
        "id": "0SSCkuAxKS0B",
        "outputId": "cf41dc3c-6d82-4d55-d464-3f6df7ae3b5e"
      },
      "execution_count": 42,
      "outputs": [
        {
          "output_type": "execute_result",
          "data": {
            "text/plain": [
              "array([4.78487723])"
            ]
          },
          "metadata": {},
          "execution_count": 42
        }
      ]
    },
    {
      "cell_type": "code",
      "source": [
        "# Elastic Net\n",
        "\n",
        "from sklearn.linear_model import ElasticNet\n",
        "elastic_net = ElasticNet(alpha = 0.1, l1_ratio = 0.5)\n",
        "elastic_net.fit(X,y)\n",
        "elastic_net.predict([[1.5]])"
      ],
      "metadata": {
        "colab": {
          "base_uri": "https://localhost:8080/"
        },
        "id": "aUo5AgvKN8pE",
        "outputId": "eca0e1e9-0855-418f-8c1c-b9dbaf47fd9f"
      },
      "execution_count": 44,
      "outputs": [
        {
          "output_type": "execute_result",
          "data": {
            "text/plain": [
              "array([4.78646588])"
            ]
          },
          "metadata": {},
          "execution_count": 44
        }
      ]
    },
    {
      "cell_type": "code",
      "source": [
        "# Early Stopping\n",
        "X_train, X_val, y_train, y_val  = train_test_split(X, y, test_size = 0.2)\n",
        "\n",
        "from copy import deepcopy\n",
        "from sklearn.preprocessing import StandardScaler\n",
        "\n",
        "poly_scaler = Pipeline([(\"poly_features\", PolynomialFeatures(degree = 90, include_bias = False)), (\"std_scaler\", StandardScaler())])\n",
        "\n",
        "X_train_poly_scaled = poly_scaler.fit_transform(X_train)\n",
        "X_val_poly_scaled = poly_scaler.transform(X_val)\n",
        "\n",
        "sgd_reg = SGDRegressor(max_iter = 1, tol = -np.infty, warm_start = True, penalty = None, learning_rate = \"constant\", eta0 = 0.0005)\n",
        "\n",
        "minimum_val_error = float(\"inf\")\n",
        "best_epoch = None\n",
        "best_model = None\n",
        "for epoch in range(1000):\n",
        "  sgd_reg.fit(X_train_poly_scaled, y_train)\n",
        "  y_val_predict = sgd_reg.predict(X_val_poly_scaled)\n",
        "  val_error = mean_squared_error(y_val, y_val_predict)\n",
        "\n",
        "  if val_error < minimum_val_error:\n",
        "    minimum_val_error = val_error\n",
        "    best_epoch = epoch\n",
        "    best_model = deepcopy(sgd_reg)\n",
        "\n",
        "\n",
        "\n",
        "\n"
      ],
      "metadata": {
        "id": "2TvKXYalOW8x"
      },
      "execution_count": 57,
      "outputs": []
    },
    {
      "cell_type": "code",
      "source": [
        "# Logistic Regression\n",
        "from sklearn import datasets\n",
        "\n",
        "iris = datasets.load_iris()\n",
        "list(iris.keys())"
      ],
      "metadata": {
        "colab": {
          "base_uri": "https://localhost:8080/"
        },
        "id": "tIGNFSQvRV-9",
        "outputId": "fa83e06b-141d-44e8-deb8-a97b7ee04e30"
      },
      "execution_count": 46,
      "outputs": [
        {
          "output_type": "execute_result",
          "data": {
            "text/plain": [
              "['data',\n",
              " 'target',\n",
              " 'frame',\n",
              " 'target_names',\n",
              " 'DESCR',\n",
              " 'feature_names',\n",
              " 'filename',\n",
              " 'data_module']"
            ]
          },
          "metadata": {},
          "execution_count": 46
        }
      ]
    },
    {
      "cell_type": "code",
      "source": [
        "X = iris[\"data\"][:, 3:]\n",
        "y = (iris[\"target\"] == 2).astype(np.int)\n"
      ],
      "metadata": {
        "colab": {
          "base_uri": "https://localhost:8080/"
        },
        "id": "ituQ9AydR6ke",
        "outputId": "3978a041-dd3f-470d-b19f-a23d34d15400"
      },
      "execution_count": 47,
      "outputs": [
        {
          "output_type": "stream",
          "name": "stderr",
          "text": [
            "/usr/local/lib/python3.7/dist-packages/ipykernel_launcher.py:2: DeprecationWarning: `np.int` is a deprecated alias for the builtin `int`. To silence this warning, use `int` by itself. Doing this will not modify any behavior and is safe. When replacing `np.int`, you may wish to use e.g. `np.int64` or `np.int32` to specify the precision. If you wish to review your current use, check the release note link for additional information.\n",
            "Deprecated in NumPy 1.20; for more details and guidance: https://numpy.org/devdocs/release/1.20.0-notes.html#deprecations\n",
            "  \n"
          ]
        }
      ]
    },
    {
      "cell_type": "code",
      "source": [
        "from sklearn.linear_model import LogisticRegression\n",
        "\n",
        "log_reg = LogisticRegression()\n",
        "log_reg.fit(X,y)"
      ],
      "metadata": {
        "colab": {
          "base_uri": "https://localhost:8080/"
        },
        "id": "Qu4qoMaCSOUp",
        "outputId": "951c97c9-0d35-448a-e16d-8ecd938c0979"
      },
      "execution_count": 48,
      "outputs": [
        {
          "output_type": "execute_result",
          "data": {
            "text/plain": [
              "LogisticRegression()"
            ]
          },
          "metadata": {},
          "execution_count": 48
        }
      ]
    },
    {
      "cell_type": "code",
      "source": [
        "X_new = np.linspace(0,3,1000).reshape(-1,1)\n",
        "y_proba = log_reg.predict_proba(X_new)\n",
        "plt.plot(X_new, y_proba[:, 1], \"g-\", label = \"Iris virginica\")\n",
        "plt.plot(X_new, y_proba[:,0], \"b--\", label = \"Not Iris Virginica\")\n",
        "plt.legend()"
      ],
      "metadata": {
        "colab": {
          "base_uri": "https://localhost:8080/",
          "height": 282
        },
        "id": "oL7bFQ_fSZt-",
        "outputId": "a0ee76a9-d326-44e5-8b69-3af05310b6d9"
      },
      "execution_count": 51,
      "outputs": [
        {
          "output_type": "execute_result",
          "data": {
            "text/plain": [
              "<matplotlib.legend.Legend at 0x7f665bf20d50>"
            ]
          },
          "metadata": {},
          "execution_count": 51
        },
        {
          "output_type": "display_data",
          "data": {
            "text/plain": [
              "<Figure size 432x288 with 1 Axes>"
            ],
            "image/png": "[encoded data removed]"
          },
          "metadata": {
            "needs_background": "light"
          }
        }
      ]
    },
    {
      "cell_type": "code",
      "source": [
        "log_reg.predict([[1.7], [1.5]])"
      ],
      "metadata": {
        "colab": {
          "base_uri": "https://localhost:8080/"
        },
        "id": "nvNwtq07S-yP",
        "outputId": "6ddd8a0f-db01-4026-b7b3-91c80cdccfe2"
      },
      "execution_count": 52,
      "outputs": [
        {
          "output_type": "execute_result",
          "data": {
            "text/plain": [
              "array([1, 0])"
            ]
          },
          "metadata": {},
          "execution_count": 52
        }
      ]
    },
    {
      "cell_type": "code",
      "source": [
        "X = iris['data'][:, (2,3)]\n",
        "y = iris[\"target\"]\n",
        "\n",
        "softmax_reg = LogisticRegression(multi_class = \"multinomial\", solver = \"lbfgs\", C= 10)\n",
        "softmax_reg.fit(X,y)\n"
      ],
      "metadata": {
        "colab": {
          "base_uri": "https://localhost:8080/"
        },
        "id": "9O_Pie0ZTV8V",
        "outputId": "1cdd6ad0-ef5b-4146-c6cc-20a53a6eb41c"
      },
      "execution_count": 54,
      "outputs": [
        {
          "output_type": "execute_result",
          "data": {
            "text/plain": [
              "LogisticRegression(C=10, multi_class='multinomial')"
            ]
          },
          "metadata": {},
          "execution_count": 54
        }
      ]
    },
    {
      "cell_type": "code",
      "source": [
        "softmax_reg.predict([[5,2]])"
      ],
      "metadata": {
        "colab": {
          "base_uri": "https://localhost:8080/"
        },
        "id": "00EiMz9uU4ik",
        "outputId": "ac956c99-0d95-4a79-c420-b994328dc996"
      },
      "execution_count": 55,
      "outputs": [
        {
          "output_type": "execute_result",
          "data": {
            "text/plain": [
              "array([2])"
            ]
          },
          "metadata": {},
          "execution_count": 55
        }
      ]
    },
    {
      "cell_type": "code",
      "source": [
        "softmax_reg.predict_proba([[5,2]])"
      ],
      "metadata": {
        "colab": {
          "base_uri": "https://localhost:8080/"
        },
        "id": "tlrHgKOAVAl2",
        "outputId": "6a65494c-aa78-4c84-85a8-acecd3566193"
      },
      "execution_count": 56,
      "outputs": [
        {
          "output_type": "execute_result",
          "data": {
            "text/plain": [
              "array([[6.38014896e-07, 5.74929995e-02, 9.42506362e-01]])"
            ]
          },
          "metadata": {},
          "execution_count": 56
        }
      ]
    }
  ]
}